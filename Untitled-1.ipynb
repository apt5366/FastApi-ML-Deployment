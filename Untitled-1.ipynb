{
 "cells": [
  {
   "cell_type": "code",
   "execution_count": 2,
   "metadata": {},
   "outputs": [
    {
     "name": "stdout",
     "output_type": "stream",
     "text": [
      "{'prediction': 'virginica'}\n"
     ]
    }
   ],
   "source": [
    "import json\n",
    "import requests\n",
    "\n",
    "data= {'features':[1, 2, 3, 4]}\n",
    "\n",
    "url = 'http://localhost:8000/predict'\n",
    "\n",
    "data = json.dumps(data)\n",
    "response = requests.post(url, data) \n",
    "print(response.json())"
   ]
  },
  {
   "cell_type": "code",
   "execution_count": 3,
   "metadata": {},
   "outputs": [
    {
     "name": "stdout",
     "output_type": "stream",
     "text": [
      "['virginica', 'virginica', 'virginica']\n"
     ]
    }
   ],
   "source": [
    "import json\n",
    "import requests\n",
    "\n",
    "# data= {'features':[1, 2, 3, 4]}\n",
    "\n",
    "data= [[1, 2, 3, 4], [2, 3, 4, 5], [3, 4, 5, 6]]    # multiple records\n",
    "\n",
    "url = 'http://localhost:8000/predict'\n",
    "\n",
    "predictions=[]\n",
    "for record in data:\n",
    "    payload= {'features':record}\n",
    "    payload = json.dumps(payload)\n",
    "    response = requests.post(url, data= payload)  \n",
    "    predictions.append(response.json()['prediction'])\n",
    "\n",
    "print(predictions) \n",
    "# data = json.dumps(data)\n",
    "# response = requests.post(url, data) \n",
    "# print(response.json())"
   ]
  }
 ],
 "metadata": {
  "kernelspec": {
   "display_name": "Python 3",
   "language": "python",
   "name": "python3"
  },
  "language_info": {
   "codemirror_mode": {
    "name": "ipython",
    "version": 3
   },
   "file_extension": ".py",
   "mimetype": "text/x-python",
   "name": "python",
   "nbconvert_exporter": "python",
   "pygments_lexer": "ipython3",
   "version": "3.10.4"
  }
 },
 "nbformat": 4,
 "nbformat_minor": 2
}
